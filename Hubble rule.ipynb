{
 "cells": [
  {
   "cell_type": "markdown",
   "metadata": {},
   "source": [
    "# 哈勃常数测定实验报告\n",
    "## 数据采集和处理"
   ]
  },
  {
   "cell_type": "code",
   "execution_count": 1,
   "metadata": {},
   "outputs": [],
   "source": [
    "#raw data\n",
    "import matplotlib.pyplot as plt\n",
    "import pandas as pd\n",
    "import numpy as np\n",
    "from sklearn.metrics import r2_score\n",
    "Obmag=np.array([15.60,15.40,16.00,16.3,12.90,12.50,14.10,14.40])\n",
    "ObK=np.array([4128.33,4133.33,4205.00,4223.33,4026.67,4018.33,4086.67,4108.33])\n",
    "ObH=np.array([4166.67,4170.00,4243.33,4261.67,4063.33,4055.00,4123.33,4143.33])\n",
    "ph_c=[269892,384604,133606,148862,321168,274570,207228,76964]\n",
    "K=3933.7\n",
    "H=3968.5"
   ]
  },
  {
   "cell_type": "code",
   "execution_count": 2,
   "metadata": {},
   "outputs": [],
   "source": [
    "#Distance(Mpc)\n",
    "D=10**((Obmag+21)/5-5)"
   ]
  },
  {
   "cell_type": "code",
   "execution_count": 3,
   "metadata": {},
   "outputs": [],
   "source": [
    "#redshift(km/s)\n",
    "vK=2.997*(10**5)*((ObK-K)/K)\n",
    "vH=2.997*(10**5)*((ObH-H)/H)\n",
    "v=(vK+vH)/2"
   ]
  },
  {
   "cell_type": "code",
   "execution_count": 4,
   "metadata": {},
   "outputs": [
    {
     "data": {
      "text/plain": [
       "<matplotlib.collections.PathCollection at 0x11ce143d2c8>"
      ]
     },
     "execution_count": 4,
     "metadata": {},
     "output_type": "execute_result"
    },
    {
     "data": {
      "image/png": "[encoded data removed]",
      "text/plain": [
       "<Figure size 432x288 with 1 Axes>"
      ]
     },
     "metadata": {
      "needs_background": "light"
     },
     "output_type": "display_data"
    }
   ],
   "source": [
    "#Hubble constant（using model \"v=HD\" instead of \"v=HD+b\"）\n",
    "H=v/D\n",
    "plt.ylabel(\"Hubble constant(km/s/Mpc)\")\n",
    "plt.scatter(range(8),H)"
   ]
  },
  {
   "cell_type": "code",
   "execution_count": 5,
   "metadata": {},
   "outputs": [
    {
     "name": "stderr",
     "output_type": "stream",
     "text": [
      "C:\\Users\\sunqi008\\Anaconda3\\lib\\site-packages\\ipykernel_launcher.py:5: FutureWarning: `rcond` parameter will change to the default of machine precision times ``max(M, N)`` where M and N are the input matrix dimensions.\n",
      "To use the future default and silence this warning we advise to pass `rcond=None`, to keep using the old, explicitly pass `rcond=-1`.\n",
      "  \"\"\"\n",
      "C:\\Users\\sunqi008\\Anaconda3\\lib\\site-packages\\ipykernel_launcher.py:6: FutureWarning: `rcond` parameter will change to the default of machine precision times ``max(M, N)`` where M and N are the input matrix dimensions.\n",
      "To use the future default and silence this warning we advise to pass `rcond=None`, to keep using the old, explicitly pass `rcond=-1`.\n",
      "  \n"
     ]
    },
    {
     "data": {
      "image/png": "[encoded data removed]",
      "text/plain": [
       "<Figure size 432x288 with 1 Axes>"
      ]
     },
     "metadata": {
      "needs_background": "light"
     },
     "output_type": "display_data"
    },
    {
     "name": "stdout",
     "output_type": "stream",
     "text": [
      "62.10648185313956 4039.825515862937 [11302245.52738378] 0.9492327737016796\n"
     ]
    }
   ],
   "source": [
    "#analysis\n",
    "plt.xlabel(\"distance(Mpc)\")\n",
    "plt.ylabel(\"radial velocity(km/s)\")\n",
    "A = np.vstack([D, np.ones(len(D))]).T\n",
    "k,b=np.linalg.lstsq(A,v)[0]\n",
    "t=np.linalg.lstsq(A,v)[1]\n",
    "plt.plot(D,k*D+b,color=\"red\",label=\"fitted line\")\n",
    "plt.scatter(D,v, color = 'green',label=\"original data\")\n",
    "plt.legend()\n",
    "plt.title(\"Hubble cosntant:diagram of Velocity vs distance\")\n",
    "plt.show()\n",
    "r2=r2_score(v,k*D+b)\n",
    "print(k,b,t,r2)"
   ]
  },
  {
   "cell_type": "markdown",
   "metadata": {},
   "source": [
    "+ 其中斜率就取为哈勃常数的值，$H_0$=62.10(km/s)/Mpc，和我们在一般文献中取得的$H_0=70km/s/Mpc$相差没有很大\n",
    "+ 计算得到$\\chi^2=11302245.53$,$R^2=0.9492$,显然相关性很好！"
   ]
  },
  {
   "cell_type": "code",
   "execution_count": 6,
   "metadata": {
    "scrolled": true
   },
   "outputs": [
    {
     "data": {
      "text/html": [
       "<div>\n",
       "<style scoped>\n",
       "    .dataframe tbody tr th:only-of-type {\n",
       "        vertical-align: middle;\n",
       "    }\n",
       "\n",
       "    .dataframe tbody tr th {\n",
       "        vertical-align: top;\n",
       "    }\n",
       "\n",
       "    .dataframe thead th {\n",
       "        text-align: right;\n",
       "    }\n",
       "</style>\n",
       "<table border=\"1\" class=\"dataframe\">\n",
       "  <thead>\n",
       "    <tr style=\"text-align: right;\">\n",
       "      <th></th>\n",
       "      <th>photon count</th>\n",
       "      <th>Observed mag</th>\n",
       "      <th>distance(Mpc)</th>\n",
       "      <th>Observed K wavelength</th>\n",
       "      <th>Observed H wavelength</th>\n",
       "      <th>velocity K</th>\n",
       "      <th>velocity H</th>\n",
       "      <th>average velocity(km/s)</th>\n",
       "      <th>Hubble constant</th>\n",
       "    </tr>\n",
       "  </thead>\n",
       "  <tbody>\n",
       "    <tr>\n",
       "      <td>0</td>\n",
       "      <td>269892</td>\n",
       "      <td>15.6</td>\n",
       "      <td>208.929613</td>\n",
       "      <td>4128.33</td>\n",
       "      <td>4166.67</td>\n",
       "      <td>14828.434044</td>\n",
       "      <td>14965.742472</td>\n",
       "      <td>14897.088258</td>\n",
       "      <td>71.301947</td>\n",
       "    </tr>\n",
       "    <tr>\n",
       "      <td>1</td>\n",
       "      <td>384604</td>\n",
       "      <td>15.4</td>\n",
       "      <td>190.546072</td>\n",
       "      <td>4133.33</td>\n",
       "      <td>4170.00</td>\n",
       "      <td>15209.373109</td>\n",
       "      <td>15217.223132</td>\n",
       "      <td>15213.298121</td>\n",
       "      <td>79.840523</td>\n",
       "    </tr>\n",
       "    <tr>\n",
       "      <td>2</td>\n",
       "      <td>133606</td>\n",
       "      <td>16.0</td>\n",
       "      <td>251.188643</td>\n",
       "      <td>4205.00</td>\n",
       "      <td>4243.33</td>\n",
       "      <td>20669.753667</td>\n",
       "      <td>20755.084037</td>\n",
       "      <td>20712.418852</td>\n",
       "      <td>82.457625</td>\n",
       "    </tr>\n",
       "    <tr>\n",
       "      <td>3</td>\n",
       "      <td>148862</td>\n",
       "      <td>16.3</td>\n",
       "      <td>288.403150</td>\n",
       "      <td>4223.33</td>\n",
       "      <td>4261.67</td>\n",
       "      <td>22066.276279</td>\n",
       "      <td>22140.115661</td>\n",
       "      <td>22103.195970</td>\n",
       "      <td>76.639926</td>\n",
       "    </tr>\n",
       "    <tr>\n",
       "      <td>4</td>\n",
       "      <td>321168</td>\n",
       "      <td>12.9</td>\n",
       "      <td>60.255959</td>\n",
       "      <td>4026.67</td>\n",
       "      <td>4063.33</td>\n",
       "      <td>7083.180975</td>\n",
       "      <td>7161.534837</td>\n",
       "      <td>7122.357906</td>\n",
       "      <td>118.201719</td>\n",
       "    </tr>\n",
       "    <tr>\n",
       "      <td>5</td>\n",
       "      <td>274570</td>\n",
       "      <td>12.5</td>\n",
       "      <td>50.118723</td>\n",
       "      <td>4018.33</td>\n",
       "      <td>4055.00</td>\n",
       "      <td>6447.774614</td>\n",
       "      <td>6532.455588</td>\n",
       "      <td>6490.115101</td>\n",
       "      <td>129.494821</td>\n",
       "    </tr>\n",
       "    <tr>\n",
       "      <td>6</td>\n",
       "      <td>207228</td>\n",
       "      <td>14.1</td>\n",
       "      <td>104.712855</td>\n",
       "      <td>4086.67</td>\n",
       "      <td>4123.33</td>\n",
       "      <td>11654.449755</td>\n",
       "      <td>11692.717903</td>\n",
       "      <td>11673.583829</td>\n",
       "      <td>111.481860</td>\n",
       "    </tr>\n",
       "    <tr>\n",
       "      <td>7</td>\n",
       "      <td>76964</td>\n",
       "      <td>14.4</td>\n",
       "      <td>120.226443</td>\n",
       "      <td>4108.33</td>\n",
       "      <td>4143.33</td>\n",
       "      <td>13304.677784</td>\n",
       "      <td>13203.112259</td>\n",
       "      <td>13253.895022</td>\n",
       "      <td>110.241097</td>\n",
       "    </tr>\n",
       "  </tbody>\n",
       "</table>\n",
       "</div>"
      ],
      "text/plain": [
       "   photon count  Observed mag  distance(Mpc)  Observed K wavelength  \\\n",
       "0        269892          15.6     208.929613                4128.33   \n",
       "1        384604          15.4     190.546072                4133.33   \n",
       "2        133606          16.0     251.188643                4205.00   \n",
       "3        148862          16.3     288.403150                4223.33   \n",
       "4        321168          12.9      60.255959                4026.67   \n",
       "5        274570          12.5      50.118723                4018.33   \n",
       "6        207228          14.1     104.712855                4086.67   \n",
       "7         76964          14.4     120.226443                4108.33   \n",
       "\n",
       "   Observed H wavelength    velocity K    velocity H  average velocity(km/s)  \\\n",
       "0                4166.67  14828.434044  14965.742472            14897.088258   \n",
       "1                4170.00  15209.373109  15217.223132            15213.298121   \n",
       "2                4243.33  20669.753667  20755.084037            20712.418852   \n",
       "3                4261.67  22066.276279  22140.115661            22103.195970   \n",
       "4                4063.33   7083.180975   7161.534837             7122.357906   \n",
       "5                4055.00   6447.774614   6532.455588             6490.115101   \n",
       "6                4123.33  11654.449755  11692.717903            11673.583829   \n",
       "7                4143.33  13304.677784  13203.112259            13253.895022   \n",
       "\n",
       "   Hubble constant  \n",
       "0        71.301947  \n",
       "1        79.840523  \n",
       "2        82.457625  \n",
       "3        76.639926  \n",
       "4       118.201719  \n",
       "5       129.494821  \n",
       "6       111.481860  \n",
       "7       110.241097  "
      ]
     },
     "execution_count": 6,
     "metadata": {},
     "output_type": "execute_result"
    }
   ],
   "source": [
    "##数据总表\n",
    "data={\"photon count\":ph_c,\"Observed mag\":Obmag,\"distance(Mpc)\":D,\"Observed K wavelength\":ObK,\"Observed H wavelength\":ObH,\"velocity K\":vK,\"velocity H\":vH,\"average velocity(km/s)\":v,\"Hubble constant\":H}\n",
    "df=pd.DataFrame(data)\n",
    "df"
   ]
  },
  {
   "cell_type": "markdown",
   "metadata": {},
   "source": [
    "## 实验过程\n",
    "+ 登录进入虚拟天文台，选择并打开一个望远镜；\n",
    "+ 利用系统，找到8个感兴趣的源（取源时保证他们的位置较为分散）；\n",
    "+ 进行光谱测量的工作。当光子数超过40，000时，或者能看到清晰的H/K吸收线时，停止测量，记录下H/K线的位置。再记录下光子数和观测星等；\n",
    "+ 对8个源重复上述操作；\n",
    "+ 进行数据分析：利用观测星等和绝对星等（这里都取-21）之间的关系，计算得到星系离我们的距离D：$$lgD=\\frac{m-M+5}{5}$$，其中D的单位是pc，我们后面把它换为Mpc；\n",
    "+ 利用H/K吸收线的红移关系：$$z=\\frac{\\lambda_{obs}-\\lambda_{rest}}{\\lambda_{rest}}$$计算得到K/H的红移关系；\n",
    "+ 利用多普勒效应公式：$$v=c\\cdot z$$ 计算得到星系的退行速度；\n",
    "+ 由哈勃定律：$$v=H_0D$$,以星系的退行速度作为横坐标，以星系离我们的距离作为纵坐标，画出散点图；\n",
    "+ 对散点图进行拟合，以拟合直线的斜率作为哈勃常数的值，并计算得到$\\chi^2$和$R^2$的值作为拟合优度的参考。\n"
   ]
  },
  {
   "cell_type": "markdown",
   "metadata": {},
   "source": [
    "## 宇宙年龄\n",
    "由以上结果,由哈勃定律：$$v=H_0D$$,其中$H_0$=62.10(km/s)/Mpc，则一个处于800kpc的星系的退行速度：$$v=H_0D=62.10\\times800\\div1000km/s=49.68km/s$$\n",
    "\n",
    "单位换算： $$800Mpc=800\\times10^3\\times3.086\\times10^{13}km=2.47\\times10^{19}km$$\n",
    "宇宙开始的时间： $$D\\div v=2.47\\times10^{22}\\div 49.68second=4.97\\times10^{17}second=15.75billion\\ years$$"
   ]
  },
  {
   "cell_type": "markdown",
   "metadata": {},
   "source": [
    "## 思考与讨论\n",
    "+ 再测K和H吸收谱线时，一定准确找到两个吸收谱线的位置，因为他们之间波长差在40埃左右。\n",
    "+ 在前面拟合的过程中，我使用的是$v=H_0D+const.$的模型,从而估计出$H_0$的值。而到了下面估算宇宙的年龄，我又使用哈勃定律$v=H_0D$来求出退行速度。这样做可能有些不妥。对于这一点我还要做进一步的思考。\n",
    "+ 总结：本实验使用视向速度和距离之间的关系测量得到哈勃常数的值。利用视星等和绝对星等的关系测定距离；利用K和H谱线的红移测定星系远离我们的速度。利用简单的方法，还估计了宇宙的年龄，和现代公认的值相近。本实验还包含了测定谱线红移，测光等操作，让我们对天文规律发现的过程有了一定的了解，加深了我们对哈勃定律的理解和认识。"
   ]
  }
 ],
 "metadata": {
  "kernelspec": {
   "display_name": "Python 3",
   "language": "python",
   "name": "python3"
  },
  "language_info": {
   "codemirror_mode": {
    "name": "ipython",
    "version": 3
   },
   "file_extension": ".py",
   "mimetype": "text/x-python",
   "name": "python",
   "nbconvert_exporter": "python",
   "pygments_lexer": "ipython3",
   "version": "3.7.4"
  }
 },
 "nbformat": 4,
 "nbformat_minor": 2
}
